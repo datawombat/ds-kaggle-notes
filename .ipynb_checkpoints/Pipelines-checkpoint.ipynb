{
 "cells": [
  {
   "cell_type": "markdown",
   "metadata": {},
   "source": [
    "There are things that can be learnt by only with a trial and error approach. The following are a recommendations from kagglers summed up."
   ]
  },
  {
   "cell_type": "markdown",
   "metadata": {},
   "source": [
    "## A. When coding\n",
    "\n",
    "- Good variable names\n",
    "- Keep the research reproducible\n",
    "    - Fixed random seed\n",
    "    - How features were generated?\n",
    "    - Use git\n",
    "- Use Macros to import libraries (to be covered in another notebook)\n",
    "- Use a library of frequent operations"
   ]
  },
  {
   "cell_type": "markdown",
   "metadata": {},
   "source": [
    "## B. Pipeline and Performance Evaluation\n",
    "\n",
    "- For large datasets, one can validate with a simple TRAIN/TEST split instead of CV.\n",
    "- Use notebooks for model training and one for EDA.\n",
    "    - One notebook for submission.\n",
    "\n",
    "So these would be the PIPELINE:\n",
    "\n",
    "0. Understand the problem\n",
    "1. Do EDA\n",
    "2. Train-test split\n",
    "    - train_val = pd.read_csv('data/val/train.csv')\n",
    "    - test_val = pd.read_csv('data/val/test.csv')\n",
    "3. Do FE and create all the necessary features and see which ones don't help.\n",
    "    - Sort parameters by these principles:\n",
    "        1. Importance\n",
    "        2. Feasibility\n",
    "        3. Understanding\n",
    "4. Start with the fastest models (LightGBM) or with the simplest (RF instead of GBDT). Or start with a baseline to find LEAKS.\n",
    "    - Make it overfit, then change parameters to constrain it\n",
    "5. Switch to ensembling and stacking only when satisfied with FEATURE ENGINEERING\n"
   ]
  },
  {
   "attachments": {},
   "cell_type": "markdown",
   "metadata": {},
   "source": [
    "## C. KazAnova's pipeline (TODO)\n",
    "\n",
    "https://www.coursera.org/learn/competitive-data-science/lecture/neQT5/kazanovas-competition-pipeline-part-1\n",
    "\n",
    "![](images/pipeline.png)"
   ]
  }
 ],
 "metadata": {
  "kernelspec": {
   "display_name": "Python 3",
   "language": "python",
   "name": "python3"
  },
  "language_info": {
   "codemirror_mode": {
    "name": "ipython",
    "version": 3
   },
   "file_extension": ".py",
   "mimetype": "text/x-python",
   "name": "python",
   "nbconvert_exporter": "python",
   "pygments_lexer": "ipython3",
   "version": "3.6.5"
  }
 },
 "nbformat": 4,
 "nbformat_minor": 2
}
