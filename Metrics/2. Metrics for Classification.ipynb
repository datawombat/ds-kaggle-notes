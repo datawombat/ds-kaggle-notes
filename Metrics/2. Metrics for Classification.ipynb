{
 "cells": [
  {
   "cell_type": "code",
   "execution_count": 1,
   "metadata": {},
   "outputs": [],
   "source": [
    "%matplotlib inline\n",
    "import pandas as pd\n",
    "import numpy as np\n",
    "import matplotlib.pyplot as plt\n",
    "pd.set_option('display.width', 500)\n",
    "pd.set_option('display.max_columns', 100)\n",
    "import seaborn as sns\n",
    "sns.set_style(\"whitegrid\")\n",
    "# Bigger font\n",
    "# sns.set_context(\"poster\")\n",
    "sns.set_context(\"talk\")\n",
    "# Figure size\n",
    "from matplotlib.pylab import rcParams\n",
    "rcParams['figure.figsize'] = 10, 4\n",
    "# np.random.seed(123)"
   ]
  },
  {
   "cell_type": "markdown",
   "metadata": {},
   "source": [
    "To classify these metrics, one can think of two types of predictions.\n",
    "\n",
    "- **Soft labels (soft predictions)** = classifier scores like probabilities, for example.\n",
    "- **Hard labels (hard predictions)**\n",
    "    - label = $arg \\max_i f_i(x)$\n",
    "    - label = $[f(x) > threshold]$"
   ]
  },
  {
   "cell_type": "markdown",
   "metadata": {},
   "source": [
    "## a. Accuracy\n",
    "\n",
    "$$\n",
    "Accuracy = \\frac{1}{N} \\sum\\limits_{i=1}^{N} [\\alpha = y_i]\n",
    "$$\n",
    "\n",
    "- The most straightforward.\n",
    "- It measures how frequently the class prediction is correct.\n",
    "\n",
    "#### Optimal constant = The most frequent class or label\n",
    "\n",
    "Because of that optimal, there's a caveat when using this metric. It cares only about **hard predictions**."
   ]
  },
  {
   "cell_type": "markdown",
   "metadata": {},
   "source": [
    "#### Example"
   ]
  },
  {
   "cell_type": "code",
   "execution_count": 2,
   "metadata": {},
   "outputs": [
    {
     "data": {
      "text/plain": [
       "0.8"
      ]
     },
     "execution_count": 2,
     "metadata": {},
     "output_type": "execute_result"
    }
   ],
   "source": [
    "from sklearn.metrics import accuracy_score\n",
    "y = np.array([0, 0, 1, 1, 2])\n",
    "## It cannot handle soft predictions\n",
    "# scores = np.array([0.0, 0.5, 0.4, 0.7, 0.7])\n",
    "scores = np.array([1, 0, 1, 1, 2])\n",
    "accuracy_score(y, scores)"
   ]
  },
  {
   "cell_type": "markdown",
   "metadata": {},
   "source": [
    "## b. Logarithmic loss = Logistic loss (logloss)\n",
    "\n",
    "### Multiclass\n",
    "\n",
    "$$\n",
    "logloss = -\\frac{1}{N} \\sum\\limits_{i=1}^{N} \\sum\\limits_{j=1}^{M} y_{i,j} \\log(p_{i,j})\n",
    "$$\n",
    "\n",
    "where $N$ is the number of sample or instance and $M$ is the number of possible labels.\n",
    "\n",
    "$y_{ij}$ is a binary indicator of whether or not label $j$ is the correct classification for instance $i$. $p_{ij}$ is the probability of assigning label $j$ to instance $i$.\n",
    "\n",
    "### Binary\n",
    "\n",
    "It is commons to this this for only $M=2$ classes\n",
    "\n",
    "$$\n",
    "logloss = - \\frac{1}{N} \\sum_{i=1}^N [y_{i} \\log \\, p_{i} + (1 - y_{i}) \\log \\, (1 - p_{i})]\n",
    "$$\n",
    "\n",
    "### In practice\n",
    "\n",
    "In practice, to avoid precision problems, one has to avoid predictions to be not from $0$ to $1$ but from $10^{-15}$ to $1$\n",
    "\n",
    "$$\n",
    "logloss = -\\frac{1}{N} \\sum\\limits_{i=1}^{N} \\sum\\limits_{j=1}^{M} y_{i,j} \\log(\\min(\\max(p_{i,j}, 10^{-15}), 1 - 10^{-15}))\n",
    "$$\n",
    "\n",
    "- This works with soft predictions, so the classifier must yield the probability for each class rather than just the most likely one.\n",
    "- A perfect classifier would have a Log Loss of 0.\n",
    "- It penalizes completely wrong answers.\n",
    "\n",
    "#### Optimal constant\n",
    "\n",
    "$$\n",
    "logloss = - \\frac{1}{N} \\sum_{i=1}^N [y_{i} \\log \\, \\alpha_1 + (1 - y_{i}) \\log \\, (1 - \\alpha_2)]\n",
    "$$\n",
    "\n",
    "The best constant is to make $\\alpha_i$ be the frequency (between 0 and 1) of the i-th class"
   ]
  },
  {
   "cell_type": "markdown",
   "metadata": {},
   "source": [
    "#### Example"
   ]
  },
  {
   "cell_type": "code",
   "execution_count": 3,
   "metadata": {},
   "outputs": [
    {
     "data": {
      "text/plain": [
       "0.1848141838386237"
      ]
     },
     "execution_count": 3,
     "metadata": {},
     "output_type": "execute_result"
    }
   ],
   "source": [
    "from sklearn.metrics import log_loss\n",
    "y = np.array([0, 0, 1, 1, 1])\n",
    "scores = np.array([0.0, 0.1, 0.9, 0.7, 0.7])\n",
    "log_loss(y, scores)"
   ]
  },
  {
   "cell_type": "markdown",
   "metadata": {},
   "source": [
    "## c. Area Under the Curve (AUC)\n",
    "\n",
    "Have you ever heard of AUC, ROC, or TPR? These terms are related and are commonly used in classification.\n",
    "\n",
    "AUC is the area under the ROC curve.\n",
    "\n",
    "### Receiving Operating Characteristic (ROC) Curve\n",
    "\n",
    "It's a visual way of inspecting the performance of only **binary classifiers (0/1)**.\n",
    "\n",
    "### What does it measure?\n",
    "\n",
    "Comparing the rate at which the classifier makes **True Positives (TP)** and the rate at which it makes **False Positives (FP)**.\n",
    "\n",
    "I always remember what they mean by remembering that the model's outcome is Positive or Negative. So FP is when the model outputs Positive but this result is False or Incorrect.\n",
    "\n",
    "- Only for binary tasks\n",
    "- It has several explanations:\n",
    "    - AUC (using fpr and tpr, it is calculated using the trapezoidal rule in scikit learn)\n",
    "    - Pair ordering\n",
    "        - $AUC = \\frac{\\text{# correctly ordered pairs}}{\\text{total number of pairs}}$  \n",
    "\n",
    "![TABLE](https://raw.githubusercontent.com/nielshanson/confusion_matrix/master/confusion_present/assets/img/confusion_table.png)"
   ]
  },
  {
   "cell_type": "markdown",
   "metadata": {},
   "source": [
    "#### Example"
   ]
  },
  {
   "cell_type": "code",
   "execution_count": 4,
   "metadata": {
    "scrolled": true
   },
   "outputs": [
    {
     "name": "stdout",
     "output_type": "stream",
     "text": [
      "[0.  0.5 0.5 1. ]\n",
      "[0.66666667 0.66666667 1.         1.        ]\n",
      "[0.7 0.5 0.4 0. ]\n",
      "0.8333333333333333\n"
     ]
    }
   ],
   "source": [
    "from sklearn import metrics\n",
    "y = np.array([1, 0, 0, 1, 1])\n",
    "scores = np.array([0.4, 0.5, 0.0, 0.7, 0.7])\n",
    "fpr, tpr, thresholds = metrics.roc_curve(y, scores)\n",
    "print(fpr)\n",
    "print(tpr)\n",
    "print(thresholds)\n",
    "\n",
    "roc_auc = metrics.auc(fpr, tpr)\n",
    "print(roc_auc)"
   ]
  },
  {
   "cell_type": "markdown",
   "metadata": {},
   "source": [
    "How FPR and TPR are calculated and the meaning of that threshold are explained in this video https://www.youtube.com/watch?v=OAl6eAyP-yo  \n",
    "It eassentially computer FPR and TPR for different values of a threshold that will classify the samples.\n",
    "\n",
    "#### TPR = rate at which you can correctly predict something\n",
    "\n",
    "    TPR = TP / (TP + FN)\n",
    "\n",
    "#### FPR = rate at which you predict something that doesn't happen. \n",
    "\n",
    "    FPR = FP / (FP + TN)\n",
    "\n",
    "The point is to measure the trade off between these two."
   ]
  },
  {
   "cell_type": "code",
   "execution_count": 5,
   "metadata": {
    "scrolled": true
   },
   "outputs": [
    {
     "data": {
      "image/png": "[encoded data removed]",
      "text/plain": [
       "<Figure size 432x288 with 1 Axes>"
      ]
     },
     "metadata": {},
     "output_type": "display_data"
    }
   ],
   "source": [
    "# Because it starts from 0,0\n",
    "fpr = np.insert(fpr,0,0)\n",
    "tpr = np.insert(tpr,0,0)\n",
    "\n",
    "plt.plot(fpr, tpr, 'b', label='ROC Curve (area = %0.2f)'% roc_auc)\n",
    "plt.legend(loc='lower right')\n",
    "plt.plot([0,1],[0,1],'--',c='gray')\n",
    "plt.xlim([-0.1,1.1])\n",
    "plt.ylim([-0.1,1.1])\n",
    "plt.ylabel('True Positive Rate')\n",
    "plt.xlabel('False Positive Rate')\n",
    "plt.show()"
   ]
  },
  {
   "cell_type": "markdown",
   "metadata": {},
   "source": [
    "#### Examples of ROC curves\n",
    "\n",
    "![rocs](images/rocs.png)\n",
    "        \n",
    "#### Optimal constant \n",
    "- Random predictions lead to AUC = 0.5 (the baseline)\n",
    "- Any constant will lead to the same AUC value"
   ]
  },
  {
   "cell_type": "markdown",
   "metadata": {},
   "source": [
    "## d. Cohen's Kappa ($\\kappa$)\n",
    "\n",
    "- It does the same as R-squared for MSE.\n",
    "\n",
    "\n",
    "From the definition of Cohen's Kappa we have:\n",
    "\n",
    "$$\n",
    "\\kappa = {\\frac {p_{o}-p_{e}}{1-p_{e}}}=1-{\\frac {1-p_{o}}{1-p_{e}}}\n",
    "$$\n",
    "\n",
    "It is rewriten as\n",
    "\n",
    "$$\n",
    "\\kappa = 1-{\\frac {\\text{error}}{\\text{baseline error}}} = 1-{\\frac {1-\\text{accuracy}}{1-p_{e}}}\n",
    "$$\n",
    "\n",
    "$p_{e}$ is the \"expected agreement\" but here it is known as the baseline accuracy that will be **the accuracy that would be on average if we randomly permute our predictions.**\n",
    "\n",
    "But, in practice, this score is computed analytically (maybe because permuting makes no sense).\n",
    "\n",
    "For example, when classifying 10 cats and 90 dogs, we can have empirical frequencies: Predict 20 cats and 80 dogs. Then\n",
    "\n",
    "$$p_e = 0.2*0.1 + 0.8*0.9 = 0.74$$"
   ]
  },
  {
   "cell_type": "markdown",
   "metadata": {},
   "source": [
    "## e. Weighted kappa\n",
    "\n",
    "#### Weighted error\n",
    "\n",
    "It can be necessary to give some predictions more importance because, for example, when predicting cats, dogs and tigers, we can penalize the misclassification tigers by adding **weight**.\n",
    "\n",
    "So to calculate the weighted error, we need a weight matrix $W$ and the confusion matrix $C$\n",
    "\n",
    "![](images/weighted_error.png)\n",
    "\n",
    "Then\n",
    "\n",
    "$$\n",
    "\\text{Weighted error} = \\frac{1}{const} \\sum_{i,j} C_{ij} W_{ij}\n",
    "$$\n",
    "\n",
    "#### Weighted kappa\n",
    "\n",
    "$$\n",
    "\\text{Weighted kappa} = 1-{\\frac {\\text{weighted error}}{\\text{weighted baseline error}}}\n",
    "$$\n",
    "\n",
    "#### Other types of weighted matrices\n",
    "\n",
    "Weights can be defined this way for ordinal data.  \n",
    "The quadractic weighted kappa has been used in many competitions.\n",
    "\n",
    "![](images/weight_definitions.png)\n",
    "\n"
   ]
  }
 ],
 "metadata": {
  "kernelspec": {
   "display_name": "Python 3",
   "language": "python",
   "name": "python3"
  },
  "language_info": {
   "codemirror_mode": {
    "name": "ipython",
    "version": 3
   },
   "file_extension": ".py",
   "mimetype": "text/x-python",
   "name": "python",
   "nbconvert_exporter": "python",
   "pygments_lexer": "ipython3",
   "version": "3.6.5"
  }
 },
 "nbformat": 4,
 "nbformat_minor": 2
}
