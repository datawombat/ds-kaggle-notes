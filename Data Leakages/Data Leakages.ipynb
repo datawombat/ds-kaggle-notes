{
 "cells": [
  {
   "cell_type": "markdown",
   "metadata": {},
   "source": [
    "**Data leakages:** This is about adding ground truths directly or indirectly into the data. They are useless irl.  \n",
    "They are a result of unintentional errors by the organizers.\n",
    "\n",
    "In a competition, one has to exploit the leaks unlike irl."
   ]
  },
  {
   "cell_type": "markdown",
   "metadata": {},
   "source": [
    "## 1. Leaks in Time Series\n",
    "\n",
    "**Future Peaking:** For example, using a value from a day after tomorrow to predict a price for tomorrow.\n",
    "\n",
    "This is the most common type.\n",
    "\n",
    "Data (or features) may contain information about the future."
   ]
  },
  {
   "cell_type": "markdown",
   "metadata": {},
   "source": [
    "**There are 2 ways that organizers could eliminate data leaks.**\n",
    "\n",
    "- Competitions where you cannot access rows from the future\n",
    "- Test set with no features but only IDs"
   ]
  },
  {
   "cell_type": "markdown",
   "metadata": {},
   "source": [
    "## 2. Unexpected Information\n",
    "\n",
    "Leaks can be found in\n",
    "\n",
    "1. **Metadata** from files (sometimes they forget about erasing these)\n",
    "\n",
    "    - File creation date, image resolution, etc (they may be connected to the target variable).\n",
    "    \n",
    "2. **Information in IDs** (ids can contain info connected about the target variable)\n",
    "\n",
    "3. **Row order**. In some cases, data is shuffled by the target variable and the row number becomes a feature."
   ]
  },
  {
   "cell_type": "markdown",
   "metadata": {},
   "source": [
    "## 2.1. Leaderboard Probing\n",
    "\n",
    "### a. Extracting ground truth from the PUBLIC part\n",
    " \n",
    "#### Example 1\n",
    "\n",
    "- In one's submissions one can change only some rows so that one can calculate ground truth for those rows.\n",
    "- Categories very connected to \"id\" are vulnerable to LB probing.\n",
    "\n",
    "For example, data can be split into green and blue sets and that makes easy for one to figure out a leak.\n",
    "\n",
    "![](probing.jpg)\n",
    "\n",
    "#### Example 2\n",
    "\n",
    "A category cannot always have the same target. One may find a leak and adjust distributions.\n",
    "\n",
    "To solve a problem of different distributions, you can adjust your solution during the training step, or perhaps it can be solved only by **adjusting it to the LB**.\n",
    "\n",
    "An example provided at https://www.coursera.org/learn/competitive-data-science/lecture/8Rp3J/problems-occurring-during-validation is about having\n",
    "- TRAIN: Women heights\n",
    "- TEST: Men heights\n",
    "\n",
    "So, a way to find the distribution for TEST is by finding its mean by doing **LEADERBOARD PROBING**.\n",
    "\n",
    "Competitions: Quora question pairs. (TODO)"
   ]
  },
  {
   "cell_type": "markdown",
   "metadata": {},
   "source": [
    "## 2.2. Other examples (TODO)\n",
    "\n",
    "- Truly Native competition\n",
    "Doing predictions with HTML files can give data leaks because of TIMESTAMPS and NEWS CONTENT\n",
    "- Expedia Hotel recommendations. Check out https://www.coursera.org/learn/competitive-data-science/lecture/Uxcm1/expedia-challenge **(Model = Generated features + Xgboost + 16 hours of training)**\n",
    "- Flavors of physics\n",
    "- Pairwise tasks"
   ]
  }
 ],
 "metadata": {
  "kernelspec": {
   "display_name": "Python 3",
   "language": "python",
   "name": "python3"
  },
  "language_info": {
   "codemirror_mode": {
    "name": "ipython",
    "version": 3
   },
   "file_extension": ".py",
   "mimetype": "text/x-python",
   "name": "python",
   "nbconvert_exporter": "python",
   "pygments_lexer": "ipython3",
   "version": "3.6.5"
  }
 },
 "nbformat": 4,
 "nbformat_minor": 2
}
