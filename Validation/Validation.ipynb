{
 "cells": [
  {
   "cell_type": "markdown",
   "metadata": {},
   "source": [
    "## TRAIN and TEST\n",
    "\n",
    "We should understand how to measure thew quality of a model.\n",
    "\n",
    "When training, we have this division\n",
    "\n",
    "- Divide the data into TRAIN and TEST.\n",
    "- Make part of the TRAIN chunk your VALIDATION.\n",
    "\n",
    "For Kaggle, this division is seen this way\n",
    "\n",
    "![](images/train_test.jpg)\n",
    "\n",
    "- With TRAIN, you train your model.\n",
    "- With PUBLIC TEST (the test part made public) you send your submission to Kaggle. You send your score on this PUBLIC TEST chunk.\n",
    "- The PRIVATE TEST chunk is release after the competition ends."
   ]
  },
  {
   "cell_type": "markdown",
   "metadata": {},
   "source": [
    "## Overfitting\n",
    "\n",
    "- In ML, a model is overfitting **if its quality on VALIDATION is better than on TEST**, and the whole TEST set is usually public.\n",
    "- In Kaggle, a model is overfitting **if its quality on TEST (public) is worse than we have expected**."
   ]
  },
  {
   "cell_type": "markdown",
   "metadata": {},
   "source": [
    "## Validation\n",
    "\n",
    "How to obtain that VALIDATION set? There are 4 recommended ways.\n",
    "\n",
    "- Holdout\n",
    "- K-fold\n",
    "- Leave-one-out\n",
    "- Stratified K-fold\n",
    "\n",
    "Check out the \"validation\" notes."
   ]
  },
  {
   "cell_type": "markdown",
   "metadata": {},
   "source": [
    "## Kaggle Splits\n",
    "\n",
    "- One must set up their validation to mimic the organizer's TRAIN/TEST split.\n",
    "- Why? For **better training of a model ** and **better Feature Generation**\n",
    "- In the one in the right, the score would be higher.\n",
    "\n",
    "![](images/val3.jpg)"
   ]
  },
  {
   "cell_type": "markdown",
   "metadata": {},
   "source": [
    "It matters, for example, when dealing with time series.\n",
    "\n",
    "## Validation for Time Series data \n",
    "\n",
    "With time series, K-fold might not be a good validation strategy.\n",
    "\n",
    "### a. Approach 1: Take random rows as validation (K-fold)\n",
    "\n",
    "- The green datapoints belong to TEST and the others to TRAIN.\n",
    "- This would make the model ignore the trend of triplets going up.\n",
    "\n",
    "![](images/val1.jpg)\n",
    "\n",
    "### a. Approach 2: Take everything before a date as TRAIN and everything after as TEST. This is called \"Time-based split\"\n",
    "\n",
    "- This would preform better if you want to predict what will happen some datapoints later.\n",
    "- Here the model would rely on the time-trend. The trend some days before should be the trend for next ones. The model cares of time-based patterns.\n",
    "\n",
    "![](images/val2.jpg)\n",
    "\n",
    "A way to validate for this is called MOVING WINDOW validation, with which we can move TRAIN and VALIDATION.\n",
    "\n",
    "![](images/moving-window.jpg)\n",
    "\n"
   ]
  },
  {
   "cell_type": "markdown",
   "metadata": {},
   "source": [
    "## How is data split?\n",
    "\n",
    "Then, there are 4 ways data could be split\n",
    "\n",
    "#### 1. Random/rowwise split\n",
    "    - Rows are independent of each other.\n",
    "    - Feature generation can be hard to find, and I guess it will require some practice.  \n",
    "#### 2. Time-based/timewise split\n",
    "    - When the first chunk is TRAIN and the rest is TEST\n",
    "    - For example, when we are to predict customers for each dat in the day week.\n",
    "    - Competitions: Rossmann, BIMBO, ...\n",
    "#### 3. By id\n",
    "    - When the TRAIN/TEST split is done on some ID, which can be a category ID, country ID, etc.\n",
    "    - IDs might be hidden from us.\n",
    "    - For example, users of a certain category might be on TRAIN and of another category on TEST. That means, users don't overlap because of their category. \n",
    "![](images/overlap.jpg)    \n",
    "    - Competitions: Intel & mobileODT cervical cancer screening, the nature concervancy, ...\n",
    "#### 4. Combined\n",
    "    - Competitions: Deloitte, Data Science Game 2017 (TODO)"
   ]
  },
  {
   "cell_type": "markdown",
   "metadata": {},
   "source": [
    "## Validation Stage problems\n",
    "\n",
    "- Too little data.\n",
    "- Diverse or inconsistent data.\n",
    "\n",
    "Check out the \"validation\" notes.\n",
    "\n",
    "## Submission Stage problems\n",
    "\n",
    "These can be encountered only when submitting the solution to the platform.\n",
    "\n",
    "- Leaderboard(LB) score is consistently higher or lower than validation score.\n",
    "- Leaderboard(LB) score is not correlated with validation score at all.\n",
    "\n",
    "#### Reasons for low scores\n",
    "\n",
    "1. We may have **different scores in Kfold validation**, so we can correct it locally.\n",
    "2. **We don't mimic the organizer's TRAIN/TEST split** at all.\n",
    "3. **Too little data in PUBLIC TEST**. Then, your score might increase when the PRIVATE part is revealed.\n",
    "4. TRAIN and TEST are from **different distributions**. Then, you can adjust your solution during the training step, or perhaps it can be solved only by adjusting it to the LB, which is called **LEADERBOARD PROBING**. I may cover this after.\n",
    "\n",
    "## Leaderboard Shuffle problems\n",
    "\n",
    "After a LB shuffle someone like the competitor in position 3 could get from position \"389\" on the PUBLIC learboard to position 3.\n",
    "\n",
    "![](images/shuffle.jpg)\n",
    "\n",
    "#### When to expect it?\n",
    "\n",
    "1. Because of randomness. When data is highly unpredictable, many people could **overfit**.\n",
    "2. Little amount of data.\n",
    "3. Different public and private distributions."
   ]
  }
 ],
 "metadata": {
  "kernelspec": {
   "display_name": "Python 3",
   "language": "python",
   "name": "python3"
  },
  "language_info": {
   "codemirror_mode": {
    "name": "ipython",
    "version": 3
   },
   "file_extension": ".py",
   "mimetype": "text/x-python",
   "name": "python",
   "nbconvert_exporter": "python",
   "pygments_lexer": "ipython3",
   "version": "3.6.5"
  }
 },
 "nbformat": 4,
 "nbformat_minor": 2
}
