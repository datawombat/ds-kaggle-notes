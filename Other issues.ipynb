{
 "cells": [
  {
   "cell_type": "markdown",
   "metadata": {},
   "source": [
    "## Dataset Balancing\n",
    "\n",
    "If there are 2 values for a target like Men and Women, balancing will be necessary when there is more data from Men than from Women. \n",
    "\n",
    "A solution to the problem that may cause is to create more data for one of them so as to make them equal regarding their instances.\n",
    "\n",
    "For example: Create rotated version of the same images."
   ]
  },
  {
   "cell_type": "markdown",
   "metadata": {},
   "source": [
    "## Rapid Prototyping\n",
    "\n",
    "**KNIME, Rapidminer, Weka**. They are ways to not lose time when doing data analysis with Python coding.\n",
    "\n",
    "In Rapidminer, one should just\n",
    "- Visualize the data and look for patterns\n",
    "- Do the simplest EDA\n",
    "- Try out different models\n",
    "\n",
    "Then in python, I would implement a script that would use the highly effective algorithms competitors normally use."
   ]
  }
 ],
 "metadata": {
  "kernelspec": {
   "display_name": "Python 3",
   "language": "python",
   "name": "python3"
  },
  "language_info": {
   "codemirror_mode": {
    "name": "ipython",
    "version": 3
   },
   "file_extension": ".py",
   "mimetype": "text/x-python",
   "name": "python",
   "nbconvert_exporter": "python",
   "pygments_lexer": "ipython3",
   "version": "3.6.5"
  }
 },
 "nbformat": 4,
 "nbformat_minor": 2
}
