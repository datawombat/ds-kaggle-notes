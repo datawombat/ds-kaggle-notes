{
 "cells": [
  {
   "cell_type": "markdown",
   "metadata": {},
   "source": [
    "- Visualization is not only to see what predictor to use\n",
    "- It can be used to find patterns, data leakages, and new features to generate.\n",
    "\n",
    "## a. Explore individual features\n",
    "- Histograms (histogram after log)\n",
    "- Plot (feature value vs row index) to see if the data is ordered, or if it is suffled. **If so, rows or columns can be further analyzed to generate new features**.\n",
    "\n",
    "![](images/feature_ordered.jpg)\n",
    "\n",
    "One can visualize null patterns in the data\n",
    "\n",
    "![](images/null_patterns.jpg)\n",
    "\n",
    "- Check stats using \"describe\"."
   ]
  },
  {
   "cell_type": "markdown",
   "metadata": {},
   "source": [
    "## b. Explore feature relations\n",
    "\n",
    "- Scatter plots\n",
    "    - In classification, the target can be visualized with colors.\n",
    "    - In regression, the target can be visualized by point size.\n",
    "    \n",
    "One can see if the distribution in the train and test set are the same. In this example, some points are in a region where there's no training data.\n",
    "\n",
    "![](images/scatter.jpg)\n",
    "\n",
    "We can **generate a new feature** like the difference or ratio between $X_1$ and $X_2$ that can represent the relationship between those two features.\n",
    "\n",
    "![](images/scatter2.jpg)\n",
    "\n",
    "Here 3 triangles as **groups** can be seen, so we can try to group them\n",
    "\n",
    "![](images/feature_relations.jpg)\n",
    "\n",
    "Plot all the scatter plots.\n",
    "\n",
    "``\n",
    "pd.scatter_matrix(df)\n",
    "``\n",
    "    \n",
    "- Distance between columns\n",
    "\n",
    "    - Correlations: Correlation matrix. A matrix with correlations between 2 features.\n",
    "    - Or with **how many times one feature is larger than the other**, or with how many distinct combinations the 2 features have. We can also sort these features with clustering\n",
    "\n",
    "``\n",
    "df.corr(), plt.matshow(...)\n",
    "``\n",
    "\n",
    "- Column order\n",
    "\n",
    "![](images/sorted_corr_matrix.jpg)\n",
    "\n",
    "We can fix some column order. You can see 7 groups that give some information about the structure.\n",
    "\n",
    "- Finding groups with feature means\n",
    "\n",
    "![](images/feature_means.jpg)\n",
    "\n",
    "``\n",
    "df.mean().sort_values().plot(style='.')\n",
    "``\n",
    "\n"
   ]
  }
 ],
 "metadata": {
  "kernelspec": {
   "display_name": "Python 3",
   "language": "python",
   "name": "python3"
  },
  "language_info": {
   "codemirror_mode": {
    "name": "ipython",
    "version": 3
   },
   "file_extension": ".py",
   "mimetype": "text/x-python",
   "name": "python",
   "nbconvert_exporter": "python",
   "pygments_lexer": "ipython3",
   "version": "3.6.5"
  }
 },
 "nbformat": 4,
 "nbformat_minor": 2
}
